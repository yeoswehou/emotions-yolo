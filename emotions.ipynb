{
 "cells": [
  {
   "cell_type": "code",
   "execution_count": 144,
   "outputs": [],
   "source": [
    "from PIL import Image\n",
    "import matplotlib.pyplot as plt\n",
    "import numpy as np\n",
    "import pandas as pd\n",
    "import yaml\n",
    "import tensorflow as tf"
   ],
   "metadata": {
    "collapsed": false,
    "pycharm": {
     "name": "#%%\n"
    }
   }
  },
  {
   "cell_type": "code",
   "execution_count": 145,
   "outputs": [],
   "source": [
    "TRAIN_DIR = 'Emotions/train'\n",
    "TEST_DIR = \"Emotions/test\"\n",
    "batch_size = 64\n",
    "img_height, img_width = 224, 224"
   ],
   "metadata": {
    "collapsed": false,
    "pycharm": {
     "name": "#%%\n"
    }
   }
  },
  {
   "cell_type": "code",
   "execution_count": 174,
   "outputs": [
    {
     "name": "stdout",
     "output_type": "stream",
     "text": [
      "Found 28709 files belonging to 7 classes.\n",
      "Using 22968 files for training.\n",
      "Found 7178 files belonging to 7 classes.\n",
      "Using 1435 files for validation.\n"
     ]
    }
   ],
   "source": [
    "train_ds = tf.keras.utils.image_dataset_from_directory(\n",
    "    TRAIN_DIR,\n",
    "    validation_split=0.2,\n",
    "    labels='inferred',\n",
    "    subset=\"training\",\n",
    "    seed=123,\n",
    "    image_size=(img_height, img_width),\n",
    "    batch_size=batch_size, shuffle=True)\n",
    "\n",
    "val_ds = tf.keras.utils.image_dataset_from_directory(\n",
    "    TEST_DIR,\n",
    "    validation_split=0.2,\n",
    "    labels='inferred',\n",
    "    subset=\"validation\",\n",
    "    seed=123,\n",
    "    image_size=(img_height, img_width),\n",
    "    batch_size=batch_size, shuffle=True)"
   ],
   "metadata": {
    "collapsed": false,
    "pycharm": {
     "name": "#%%\n"
    }
   }
  },
  {
   "cell_type": "code",
   "execution_count": 178,
   "outputs": [
    {
     "data": {
      "text/plain": "['angry', 'disgusted', 'fearful', 'happy', 'neutral', 'sad', 'surprised']"
     },
     "execution_count": 178,
     "metadata": {},
     "output_type": "execute_result"
    }
   ],
   "source": [
    "#Number of emotions\n",
    "class_names = train_ds.class_names\n",
    "num_classes = len(class_names)\n",
    "class_names"
   ],
   "metadata": {
    "collapsed": false,
    "pycharm": {
     "name": "#%%\n"
    }
   }
  },
  {
   "cell_type": "code",
   "execution_count": 187,
   "outputs": [
    {
     "name": "stdout",
     "output_type": "stream",
     "text": [
      "Model: \"sequential_23\"\n",
      "_________________________________________________________________\n",
      " Layer (type)                Output Shape              Param #   \n",
      "=================================================================\n",
      " resnet50 (Functional)       (None, 7, 7, 2048)        23587712  \n",
      "                                                                 \n",
      " global_average_pooling2d_11  (None, 2048)             0         \n",
      "  (GlobalAveragePooling2D)                                       \n",
      "                                                                 \n",
      " dense_69 (Dense)            (None, 256)               524544    \n",
      "                                                                 \n",
      " dense_70 (Dense)            (None, 64)                16448     \n",
      "                                                                 \n",
      " dense_71 (Dense)            (None, 7)                 455       \n",
      "                                                                 \n",
      "=================================================================\n",
      "Total params: 24,129,159\n",
      "Trainable params: 24,076,039\n",
      "Non-trainable params: 53,120\n",
      "_________________________________________________________________\n"
     ]
    }
   ],
   "source": [
    "AUTOTUNE = tf.data.AUTOTUNE\n",
    "train_ds = train_ds.cache().prefetch(buffer_size=AUTOTUNE)\n",
    "val_ds = val_ds.cache().prefetch(buffer_size=AUTOTUNE)\n",
    "i = tf.keras.layers.Input(shape=[img_width, img_height, 3], dtype=tf.uint8)\n",
    "x = tf.cast(i, tf.float32)\n",
    "\n",
    "pretrained = tf.keras.applications.resnet50.ResNet50(input_shape=(img_width, img_height, 3), include_top=False,\n",
    "                                                     weights=\"imagenet\",\n",
    "                                                     classes=num_classes, classifier_activation=\"softmax\")\n",
    "model = tf.keras.models.Sequential([\n",
    "    pretrained,\n",
    "    tf.keras.layers.GlobalAveragePooling2D(),\n",
    "    tf.keras.layers.Dense(256, activation='relu'),\n",
    "    tf.keras.layers.Dense(64, activation='relu'),\n",
    "    tf.keras.layers.Dense(num_classes, activation='softmax')\n",
    "])\n",
    "model.summary()"
   ],
   "metadata": {
    "collapsed": false,
    "pycharm": {
     "name": "#%%\n"
    }
   }
  },
  {
   "cell_type": "code",
   "execution_count": 189,
   "outputs": [
    {
     "name": "stdout",
     "output_type": "stream",
     "text": [
      "Epoch 1/20\n"
     ]
    },
    {
     "name": "stderr",
     "output_type": "stream",
     "text": [
      "2023-02-09 03:48:34.884310: I tensorflow/core/grappler/optimizers/custom_graph_optimizer_registry.cc:114] Plugin optimizer for device_type GPU is enabled.\n"
     ]
    },
    {
     "name": "stdout",
     "output_type": "stream",
     "text": [
      "359/359 [==============================] - ETA: 0s - loss: 1.3052 - accuracy: 0.5041"
     ]
    },
    {
     "name": "stderr",
     "output_type": "stream",
     "text": [
      "2023-02-09 03:52:10.083055: I tensorflow/core/grappler/optimizers/custom_graph_optimizer_registry.cc:114] Plugin optimizer for device_type GPU is enabled.\n"
     ]
    },
    {
     "name": "stdout",
     "output_type": "stream",
     "text": [
      "359/359 [==============================] - 224s 598ms/step - loss: 1.3052 - accuracy: 0.5041 - val_loss: 1.6716 - val_accuracy: 0.3512\n",
      "Epoch 2/20\n",
      "359/359 [==============================] - 223s 620ms/step - loss: 1.0932 - accuracy: 0.5859 - val_loss: 1.5224 - val_accuracy: 0.4167\n",
      "Epoch 3/20\n",
      "359/359 [==============================] - 227s 629ms/step - loss: 0.9745 - accuracy: 0.6356 - val_loss: 1.7653 - val_accuracy: 0.3498\n",
      "Epoch 4/20\n",
      "359/359 [==============================] - 228s 633ms/step - loss: 0.8678 - accuracy: 0.6726 - val_loss: 1.4022 - val_accuracy: 0.5296\n",
      "Epoch 5/20\n",
      "359/359 [==============================] - 227s 630ms/step - loss: 0.7671 - accuracy: 0.7141 - val_loss: 1.4871 - val_accuracy: 0.5226\n",
      "Epoch 6/20\n",
      "359/359 [==============================] - 223s 617ms/step - loss: 0.6571 - accuracy: 0.7593 - val_loss: 1.6822 - val_accuracy: 0.4634\n",
      "Epoch 7/20\n",
      "359/359 [==============================] - 220s 611ms/step - loss: 0.5352 - accuracy: 0.8065 - val_loss: 1.6674 - val_accuracy: 0.4843\n",
      "Epoch 8/20\n",
      "359/359 [==============================] - 216s 598ms/step - loss: 0.4435 - accuracy: 0.8395 - val_loss: 1.5652 - val_accuracy: 0.5206\n",
      "Epoch 9/20\n",
      "359/359 [==============================] - 221s 613ms/step - loss: 0.3392 - accuracy: 0.8777 - val_loss: 2.1501 - val_accuracy: 0.4669\n",
      "Epoch 10/20\n",
      "359/359 [==============================] - 226s 626ms/step - loss: 0.2650 - accuracy: 0.9048 - val_loss: 2.3400 - val_accuracy: 0.4446\n",
      "Epoch 11/20\n",
      "359/359 [==============================] - 218s 604ms/step - loss: 0.2166 - accuracy: 0.9245 - val_loss: 2.4613 - val_accuracy: 0.5422\n",
      "Epoch 12/20\n",
      "359/359 [==============================] - 223s 621ms/step - loss: 0.1662 - accuracy: 0.9431 - val_loss: 2.1670 - val_accuracy: 0.5456\n",
      "Epoch 13/20\n",
      "359/359 [==============================] - 217s 602ms/step - loss: 0.1359 - accuracy: 0.9538 - val_loss: 1.9205 - val_accuracy: 0.5944\n",
      "Epoch 14/20\n",
      "359/359 [==============================] - 216s 600ms/step - loss: 0.1220 - accuracy: 0.9572 - val_loss: 2.0299 - val_accuracy: 0.6014\n",
      "Epoch 15/20\n",
      "359/359 [==============================] - 227s 630ms/step - loss: 0.1136 - accuracy: 0.9625 - val_loss: 1.8935 - val_accuracy: 0.6035\n",
      "Epoch 16/20\n",
      "359/359 [==============================] - 226s 626ms/step - loss: 0.0932 - accuracy: 0.9685 - val_loss: 2.0290 - val_accuracy: 0.6132\n",
      "Epoch 17/20\n",
      "359/359 [==============================] - 219s 609ms/step - loss: 0.0819 - accuracy: 0.9725 - val_loss: 2.0821 - val_accuracy: 0.6202\n",
      "Epoch 18/20\n",
      "359/359 [==============================] - 206s 572ms/step - loss: 0.0844 - accuracy: 0.9724 - val_loss: 1.9390 - val_accuracy: 0.6007\n",
      "Epoch 19/20\n",
      "359/359 [==============================] - 200s 556ms/step - loss: 0.0799 - accuracy: 0.9724 - val_loss: 2.1970 - val_accuracy: 0.5895\n",
      "Epoch 20/20\n",
      "359/359 [==============================] - 196s 545ms/step - loss: 0.0828 - accuracy: 0.9729 - val_loss: 1.9827 - val_accuracy: 0.5930\n"
     ]
    }
   ],
   "source": [
    "callbacks = tf.keras.callbacks.ModelCheckpoint(\"emotion.h5\", save_best_only=True)\n",
    "model.compile(optimizer='adam',\n",
    "              loss='sparse_categorical_crossentropy',\n",
    "              metrics=['accuracy'])\n",
    "history = model.fit(train_ds, epochs=20, validation_data=val_ds, callbacks=callbacks)"
   ],
   "metadata": {
    "collapsed": false,
    "pycharm": {
     "name": "#%%\n"
    }
   }
  },
  {
   "cell_type": "code",
   "execution_count": 190,
   "outputs": [
    {
     "data": {
      "text/plain": "        loss  accuracy  val_loss  val_accuracy\n0   1.305162  0.504136  1.671572      0.351220\n1   1.093171  0.585902  1.522427      0.416725\n2   0.974486  0.635624  1.765332      0.349826\n3   0.867841  0.672588  1.402158      0.529617\n4   0.767117  0.714124  1.487130      0.522648\n5   0.657107  0.759274  1.682172      0.463415\n6   0.535215  0.806470  1.667420      0.484321\n7   0.443541  0.839472  1.565200      0.520558\n8   0.339192  0.877699  2.150149      0.466899\n9   0.264957  0.904824  2.339977      0.444599\n10  0.216570  0.924547  2.461303      0.542160\n11  0.166231  0.943138  2.166963      0.545645\n12  0.135917  0.953805  1.920500      0.594425\n13  0.122010  0.957158  2.029932      0.601394\n14  0.113624  0.962470  1.893453      0.603484\n15  0.093220  0.968521  2.029030      0.613240\n16  0.081862  0.972527  2.082061      0.620209\n17  0.084354  0.972396  1.938956      0.600697\n18  0.079949  0.972440  2.196956      0.589547\n19  0.082811  0.972919  1.982668      0.593031",
      "text/html": "<div>\n<style scoped>\n    .dataframe tbody tr th:only-of-type {\n        vertical-align: middle;\n    }\n\n    .dataframe tbody tr th {\n        vertical-align: top;\n    }\n\n    .dataframe thead th {\n        text-align: right;\n    }\n</style>\n<table border=\"1\" class=\"dataframe\">\n  <thead>\n    <tr style=\"text-align: right;\">\n      <th></th>\n      <th>loss</th>\n      <th>accuracy</th>\n      <th>val_loss</th>\n      <th>val_accuracy</th>\n    </tr>\n  </thead>\n  <tbody>\n    <tr>\n      <th>0</th>\n      <td>1.305162</td>\n      <td>0.504136</td>\n      <td>1.671572</td>\n      <td>0.351220</td>\n    </tr>\n    <tr>\n      <th>1</th>\n      <td>1.093171</td>\n      <td>0.585902</td>\n      <td>1.522427</td>\n      <td>0.416725</td>\n    </tr>\n    <tr>\n      <th>2</th>\n      <td>0.974486</td>\n      <td>0.635624</td>\n      <td>1.765332</td>\n      <td>0.349826</td>\n    </tr>\n    <tr>\n      <th>3</th>\n      <td>0.867841</td>\n      <td>0.672588</td>\n      <td>1.402158</td>\n      <td>0.529617</td>\n    </tr>\n    <tr>\n      <th>4</th>\n      <td>0.767117</td>\n      <td>0.714124</td>\n      <td>1.487130</td>\n      <td>0.522648</td>\n    </tr>\n    <tr>\n      <th>5</th>\n      <td>0.657107</td>\n      <td>0.759274</td>\n      <td>1.682172</td>\n      <td>0.463415</td>\n    </tr>\n    <tr>\n      <th>6</th>\n      <td>0.535215</td>\n      <td>0.806470</td>\n      <td>1.667420</td>\n      <td>0.484321</td>\n    </tr>\n    <tr>\n      <th>7</th>\n      <td>0.443541</td>\n      <td>0.839472</td>\n      <td>1.565200</td>\n      <td>0.520558</td>\n    </tr>\n    <tr>\n      <th>8</th>\n      <td>0.339192</td>\n      <td>0.877699</td>\n      <td>2.150149</td>\n      <td>0.466899</td>\n    </tr>\n    <tr>\n      <th>9</th>\n      <td>0.264957</td>\n      <td>0.904824</td>\n      <td>2.339977</td>\n      <td>0.444599</td>\n    </tr>\n    <tr>\n      <th>10</th>\n      <td>0.216570</td>\n      <td>0.924547</td>\n      <td>2.461303</td>\n      <td>0.542160</td>\n    </tr>\n    <tr>\n      <th>11</th>\n      <td>0.166231</td>\n      <td>0.943138</td>\n      <td>2.166963</td>\n      <td>0.545645</td>\n    </tr>\n    <tr>\n      <th>12</th>\n      <td>0.135917</td>\n      <td>0.953805</td>\n      <td>1.920500</td>\n      <td>0.594425</td>\n    </tr>\n    <tr>\n      <th>13</th>\n      <td>0.122010</td>\n      <td>0.957158</td>\n      <td>2.029932</td>\n      <td>0.601394</td>\n    </tr>\n    <tr>\n      <th>14</th>\n      <td>0.113624</td>\n      <td>0.962470</td>\n      <td>1.893453</td>\n      <td>0.603484</td>\n    </tr>\n    <tr>\n      <th>15</th>\n      <td>0.093220</td>\n      <td>0.968521</td>\n      <td>2.029030</td>\n      <td>0.613240</td>\n    </tr>\n    <tr>\n      <th>16</th>\n      <td>0.081862</td>\n      <td>0.972527</td>\n      <td>2.082061</td>\n      <td>0.620209</td>\n    </tr>\n    <tr>\n      <th>17</th>\n      <td>0.084354</td>\n      <td>0.972396</td>\n      <td>1.938956</td>\n      <td>0.600697</td>\n    </tr>\n    <tr>\n      <th>18</th>\n      <td>0.079949</td>\n      <td>0.972440</td>\n      <td>2.196956</td>\n      <td>0.589547</td>\n    </tr>\n    <tr>\n      <th>19</th>\n      <td>0.082811</td>\n      <td>0.972919</td>\n      <td>1.982668</td>\n      <td>0.593031</td>\n    </tr>\n  </tbody>\n</table>\n</div>"
     },
     "execution_count": 190,
     "metadata": {},
     "output_type": "execute_result"
    }
   ],
   "source": [
    "history_df = pd.DataFrame(history.history)\n",
    "history_df"
   ],
   "metadata": {
    "collapsed": false,
    "pycharm": {
     "name": "#%%\n"
    }
   }
  },
  {
   "cell_type": "code",
   "execution_count": 193,
   "outputs": [
    {
     "data": {
      "text/plain": "<Figure size 640x480 with 1 Axes>",
      "image/png": "[encoded data removed]"
     },
     "metadata": {},
     "output_type": "display_data"
    },
    {
     "data": {
      "text/plain": "<Figure size 640x480 with 0 Axes>"
     },
     "metadata": {},
     "output_type": "display_data"
    }
   ],
   "source": [
    "acc = history.history['accuracy']\n",
    "val_acc = history.history['val_accuracy']\n",
    "loss = history.history['loss']\n",
    "val_loss = history.history['val_loss']\n",
    "epochs = range(len(acc))\n",
    "plt.plot(epochs, acc, 'r', label='Training accuracy')\n",
    "plt.plot(epochs, val_acc, 'b', label='Validation accuracy')\n",
    "plt.title('Training and Validation Accuracy - Model 1')\n",
    "plt.legend(loc=0)\n",
    "plt.figure()\n",
    "\n",
    "plt.show()"
   ],
   "metadata": {
    "collapsed": false,
    "pycharm": {
     "name": "#%%\n"
    }
   }
  },
  {
   "cell_type": "code",
   "execution_count": 192,
   "outputs": [
    {
     "name": "stdout",
     "output_type": "stream",
     "text": [
      "23/23 [==============================] - 4s 161ms/step - loss: 1.9827 - accuracy: 0.5930\n"
     ]
    },
    {
     "data": {
      "text/plain": "[1.982668399810791, 0.5930314064025879]"
     },
     "execution_count": 192,
     "metadata": {},
     "output_type": "execute_result"
    }
   ],
   "source": [],
   "metadata": {
    "collapsed": false,
    "pycharm": {
     "name": "#%%\n"
    }
   }
  }
 ],
 "metadata": {
  "kernelspec": {
   "display_name": "Python 3",
   "language": "python",
   "name": "python3"
  },
  "language_info": {
   "codemirror_mode": {
    "name": "ipython",
    "version": 2
   },
   "file_extension": ".py",
   "mimetype": "text/x-python",
   "name": "python",
   "nbconvert_exporter": "python",
   "pygments_lexer": "ipython2",
   "version": "2.7.6"
  }
 },
 "nbformat": 4,
 "nbformat_minor": 0
}